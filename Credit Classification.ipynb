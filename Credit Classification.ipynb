{
 "cells": [
  {
   "cell_type": "markdown",
   "metadata": {},
   "source": [
    "# Classification to categorize credit applications"
   ]
  },
  {
   "cell_type": "code",
   "execution_count": null,
   "metadata": {
    "colab": {
     "base_uri": "https://localhost:8080/",
     "height": 75
    },
    "colab_type": "code",
    "id": "R1W5wxIChMEh",
    "outputId": "c46189d8-a233-464f-a93e-06335b1f7e5d"
   },
   "outputs": [],
   "source": [
    "#Import all the necessary libraries\n",
    "import pandas as pd\n",
    "import numpy as np\n",
    "from mpl_toolkits.mplot3d import Axes3D\n",
    "from pandas.plotting import scatter_matrix\n",
    "import matplotlib.pyplot as plt\n",
    "from scipy.stats import randint\n",
    "from scipy.stats import uniform\n",
    "from sklearn.linear_model import LogisticRegression\n",
    "from sklearn.model_selection import train_test_split, RandomizedSearchCV\n",
    "import seaborn as sns\n",
    "import itertools\n",
    "from sklearn.model_selection import train_test_split\n",
    "from sklearn.metrics import accuracy_score\n",
    "from sklearn import metrics\n",
    "from sklearn.model_selection import cross_validate, cross_val_predict\n",
    "from sklearn.tree import DecisionTreeClassifier\n",
    "from sklearn.ensemble import GradientBoostingClassifier\n",
    "from sklearn.ensemble import RandomForestClassifier\n",
    "from sklearn.metrics import f1_score\n",
    "from sklearn.preprocessing import StandardScaler\n",
    "from sklearn.metrics import precision_recall_curve\n",
    "from sklearn.metrics import confusion_matrix,roc_auc_score,roc_curve,classification_report,accuracy_score\n",
    "from matplotlib import pyplot\n",
    "%matplotlib inline"
   ]
  },
  {
   "cell_type": "code",
   "execution_count": null,
   "metadata": {
    "colab": {},
    "colab_type": "code",
    "id": "FvzC6vUJUatF"
   },
   "outputs": [],
   "source": [
    "# Load the files from the google drive\n",
    "df_apprec=pd.read_csv(\"C:/New folder/SecondSpring/Python/Project/credit-card-approval-prediction/application_record.csv\")\n",
    "df_credrec=pd.read_csv(\"C:/New folder/SecondSpring/Python/Project/credit-card-approval-prediction/credit_record.csv\")"
   ]
  },
  {
   "cell_type": "code",
   "execution_count": null,
   "metadata": {
    "colab": {
     "base_uri": "https://localhost:8080/",
     "height": 55
    },
    "colab_type": "code",
    "id": "vqyiuB7egpkd",
    "outputId": "4a11e926-8696-4cdc-be12-6cc37e8a39cc"
   },
   "outputs": [],
   "source": [
    "# Shape of the dataframes\n",
    "print('Size of the Application dataset is', df_apprec.shape)\n",
    "print('Size of the credit record dataset is', df_credrec.shape)"
   ]
  },
  {
   "cell_type": "code",
   "execution_count": null,
   "metadata": {
    "colab": {
     "base_uri": "https://localhost:8080/",
     "height": 533
    },
    "colab_type": "code",
    "id": "wMD1AQVnhY_2",
    "outputId": "3187a6b9-1137-4a6f-c870-948b613c4d5f"
   },
   "outputs": [],
   "source": [
    "#unique values\n",
    "print(df_apprec.nunique())\n",
    "print(df_apprec.head())"
   ]
  },
  {
   "cell_type": "code",
   "execution_count": null,
   "metadata": {
    "colab": {
     "base_uri": "https://localhost:8080/",
     "height": 516
    },
    "colab_type": "code",
    "id": "CMljerHQhvOF",
    "outputId": "eca85376-281a-4294-e904-b59792677ce5"
   },
   "outputs": [],
   "source": [
    "#Plot of distribution of status codes in the target variable\n",
    "plt.figure(figsize=(15,8))\n",
    "sns.countplot(x='STATUS', data=df_credrec)"
   ]
  },
  {
   "cell_type": "code",
   "execution_count": null,
   "metadata": {
    "colab": {
     "base_uri": "https://localhost:8080/",
     "height": 170
    },
    "colab_type": "code",
    "id": "zYcqMwLYi8Dt",
    "outputId": "455365dd-acc8-4b9a-eca8-117ebd1474ca"
   },
   "outputs": [],
   "source": [
    "# Status code distribution in the credit record\n",
    "a=df_credrec['STATUS'].value_counts()\n",
    "for i in a:\n",
    "        print (list(a).index(i),\":\",round((i)/len(df_credrec)*100,2), \"%\")"
   ]
  },
  {
   "cell_type": "code",
   "execution_count": null,
   "metadata": {
    "colab": {
     "base_uri": "https://localhost:8080/",
     "height": 380
    },
    "colab_type": "code",
    "id": "5vIfhazZlQpc",
    "outputId": "c95b7e5d-d1f5-4e47-e999-45fb956dffbd"
   },
   "outputs": [],
   "source": [
    "#Percetage of missing values by each column\n",
    "missing_values = (100-df_apprec.count()/len(df_apprec) * 100)\n",
    "print(round(missing_values).sort_values(ascending=False))"
   ]
  },
  {
   "cell_type": "code",
   "execution_count": null,
   "metadata": {
    "colab": {
     "base_uri": "https://localhost:8080/",
     "height": 299
    },
    "colab_type": "code",
    "id": "7n-FsejGn3wa",
    "outputId": "a44d3848-ce95-40b8-e066-f3d98ff58f21"
   },
   "outputs": [],
   "source": [
    "#Outlier plot for days of birth\n",
    "import seaborn as sns\n",
    "sns.boxplot(x=df_apprec['DAYS_BIRTH'])"
   ]
  },
  {
   "cell_type": "code",
   "execution_count": null,
   "metadata": {
    "colab": {
     "base_uri": "https://localhost:8080/",
     "height": 299
    },
    "colab_type": "code",
    "id": "GAPC3s9qp5hH",
    "outputId": "95362e1e-82d1-49d9-f742-ba09d4269d63"
   },
   "outputs": [],
   "source": [
    "#Outlier plot for day employed \n",
    "sns.boxplot(x=df_apprec['DAYS_EMPLOYED'])"
   ]
  },
  {
   "cell_type": "code",
   "execution_count": null,
   "metadata": {
    "colab": {
     "base_uri": "https://localhost:8080/",
     "height": 36
    },
    "colab_type": "code",
    "id": "ncp5v-nOqGw4",
    "outputId": "b5284d85-e418-4852-b6e8-5be48812e5d1"
   },
   "outputs": [],
   "source": [
    "df_apprec.DAYS_EMPLOYED.max()"
   ]
  },
  {
   "cell_type": "code",
   "execution_count": null,
   "metadata": {
    "colab": {
     "base_uri": "https://localhost:8080/",
     "height": 299
    },
    "colab_type": "code",
    "id": "22WrBLDlqe7S",
    "outputId": "af732600-ced0-4570-da4e-05701a8abb30"
   },
   "outputs": [],
   "source": [
    "#Outlier plot for Income\n",
    "import seaborn as sns\n",
    "sns.boxplot(x=df_apprec['AMT_INCOME_TOTAL'])"
   ]
  },
  {
   "cell_type": "code",
   "execution_count": null,
   "metadata": {
    "colab": {
     "base_uri": "https://localhost:8080/",
     "height": 36
    },
    "colab_type": "code",
    "id": "qHXGWyHIqWA6",
    "outputId": "d690295c-e412-4c3d-a634-e641575518f1"
   },
   "outputs": [],
   "source": [
    "df_apprec.AMT_INCOME_TOTAL.max()"
   ]
  },
  {
   "cell_type": "code",
   "execution_count": null,
   "metadata": {
    "colab": {},
    "colab_type": "code",
    "id": "4VbYwf3YuK_A"
   },
   "outputs": [],
   "source": [
    "#Outlier removal for income total\n",
    "df_apprec = df_apprec[df_apprec['AMT_INCOME_TOTAL'] <= 1000000] \n",
    "#new_data.AMT_INCOME_TOTAL.max()"
   ]
  },
  {
   "cell_type": "code",
   "execution_count": null,
   "metadata": {
    "colab": {},
    "colab_type": "code",
    "id": "vb8g-fd2C5_Z"
   },
   "outputs": [],
   "source": [
    "sns.set_style(\"whitegrid\") "
   ]
  },
  {
   "cell_type": "code",
   "execution_count": null,
   "metadata": {
    "colab": {
     "base_uri": "https://localhost:8080/",
     "height": 380
    },
    "colab_type": "code",
    "id": "b611WZOatltU",
    "outputId": "74bd5adf-12d7-439d-f7bb-bf67f1553387"
   },
   "outputs": [],
   "source": [
    "#Checking column data types\n",
    "df_apprec.select_dtypes(include=[np.float64]).columns\n",
    "df_apprec.select_dtypes(include=[np.int64]).columns\n",
    "df_apprec.select_dtypes(include=[np.object]).columns\n",
    "df_apprec.isnull().sum()"
   ]
  },
  {
   "cell_type": "code",
   "execution_count": null,
   "metadata": {
    "colab": {
     "base_uri": "https://localhost:8080/",
     "height": 491
    },
    "colab_type": "code",
    "id": "_WYAGlMrD3lv",
    "outputId": "86dfd596-0e53-48cc-af3f-7900f2d4bf38"
   },
   "outputs": [],
   "source": [
    "#Correclation Matrix for Application\n",
    "correlations = df_apprec.corr()\n",
    "names=list(df_apprec.columns)\n",
    "# plot correlation matrix\n",
    "fig = plt.figure(figsize=(15,8))\n",
    "ax = fig.add_subplot(111)\n",
    "cax = ax.matshow(correlations, vmin=-1, vmax=1)\n",
    "fig.colorbar(cax)\n",
    "ticks = np.arange(0,11,1)\n",
    "ax.set_xticks(ticks)\n",
    "ax.set_yticks(ticks)\n",
    "ax.set_xticklabels(names)\n",
    "ax.set_yticklabels(names)\n",
    "plt.show()"
   ]
  },
  {
   "cell_type": "code",
   "execution_count": null,
   "metadata": {
    "colab": {
     "base_uri": "https://localhost:8080/",
     "height": 272
    },
    "colab_type": "code",
    "id": "Mj0_DvtiGgQi",
    "outputId": "a576b985-15ec-42dd-a0aa-63bd6d1c00cb"
   },
   "outputs": [],
   "source": [
    "#Correlation Matrix for Credit\n",
    "correlations = df_credrec.corr()\n",
    "names=list(df_credrec.columns)\n",
    "# plot correlation matrix\n",
    "fig = plt.figure()\n",
    "ax = fig.add_subplot(111)\n",
    "cax = ax.matshow(correlations, vmin=-1, vmax=1)\n",
    "fig.colorbar(cax)\n",
    "ticks = np.arange(0,2,1)\n",
    "ax.set_xticks(ticks)\n",
    "ax.set_yticks(ticks)\n",
    "ax.set_xticklabels(names)\n",
    "ax.set_yticklabels(names)\n",
    "plt.show()"
   ]
  },
  {
   "cell_type": "code",
   "execution_count": null,
   "metadata": {
    "colab": {
     "base_uri": "https://localhost:8080/",
     "height": 288
    },
    "colab_type": "code",
    "id": "V2E6XqIsGwdM",
    "outputId": "85920af1-7787-49f3-a152-6ee7caa7061d"
   },
   "outputs": [],
   "source": [
    "# Scatterplot Matrix for Credit\n",
    "names=list(df_credrec.columns)\n",
    "scatter_matrix(df_credrec)\n",
    "plt.show()"
   ]
  },
  {
   "cell_type": "code",
   "execution_count": null,
   "metadata": {},
   "outputs": [],
   "source": [
    "#Aggrgating the credit record by recoding 1,2,3,4,5 to 1 and X,C values to zero\n",
    "dfCr=df_credrec[\"STATUS\"].replace({\"X\": \"0\", \"C\": \"0\", \"2\":\"1\", \"3\":\"1\", \"4\":\"1\", \"5\":\"1\"}, inplace=True)"
   ]
  },
  {
   "cell_type": "code",
   "execution_count": null,
   "metadata": {},
   "outputs": [],
   "source": [
    "#Plot of good and bad applications in the given data\n",
    "sns.countplot(x='STATUS', data=df_credrec)"
   ]
  },
  {
   "cell_type": "code",
   "execution_count": null,
   "metadata": {},
   "outputs": [],
   "source": [
    "#Aggrgating the user IDs based on the maximum value of the staus value\n",
    "uniq_users=pd.DataFrame(df_credrec.groupby('ID').agg({'STATUS':'max'}))"
   ]
  },
  {
   "cell_type": "code",
   "execution_count": null,
   "metadata": {},
   "outputs": [],
   "source": [
    "#Merge the application data with the user credit status data\n",
    "new_data=pd.merge(df_apprec,uniq_users,how=\"inner\",on=\"ID\") #merge to record data"
   ]
  },
  {
   "cell_type": "code",
   "execution_count": null,
   "metadata": {},
   "outputs": [],
   "source": [
    "#Renaming the columns\n",
    "new_data.rename(columns={'CODE_GENDER':'Gender','FLAG_OWN_CAR':'Car','FLAG_OWN_REALTY':'Reality',\n",
    "                         'CNT_CHILDREN':'ChldNo','AMT_INCOME_TOTAL':'inc',\n",
    "                         'NAME_EDUCATION_TYPE':'edutp','NAME_FAMILY_STATUS':'famtp',\n",
    "                        'NAME_HOUSING_TYPE':'houtp','FLAG_EMAIL':'email',\n",
    "                         'NAME_INCOME_TYPE':'inctp','FLAG_WORK_PHONE':'wkphone',\n",
    "                         'FLAG_PHONE':'phone','CNT_FAM_MEMBERS':'famsize',\n",
    "                        'OCCUPATION_TYPE':'occyp'\n",
    "                        },inplace=True)"
   ]
  },
  {
   "cell_type": "code",
   "execution_count": null,
   "metadata": {},
   "outputs": [],
   "source": [
    "#Masking the null values\n",
    "new_data.dropna()\n",
    "new_data = new_data.mask(new_data == 'NULL').dropna()"
   ]
  },
  {
   "cell_type": "code",
   "execution_count": null,
   "metadata": {
    "colab": {},
    "colab_type": "code",
    "id": "5dbmmAACl9i-"
   },
   "outputs": [],
   "source": [
    "#Creating dummy variables \n",
    "one_hot_train_i = pd.get_dummies(new_data['inctp'])\n",
    "one_hot_train_e = pd.get_dummies(new_data['edutp'])\n",
    "one_hot_train_h = pd.get_dummies(new_data['houtp'])\n",
    "one_hot_train_f = pd.get_dummies(new_data['famtp'])\n",
    "one_hot_train_o = pd.get_dummies(new_data['occyp'])\n"
   ]
  },
  {
   "cell_type": "code",
   "execution_count": null,
   "metadata": {
    "colab": {},
    "colab_type": "code",
    "id": "9tNLuu1AoHTZ"
   },
   "outputs": [],
   "source": [
    "#Recoding the data types\n",
    "new_data['Car'] = new_data['Car'].astype('bool')\n",
    "new_data['Reality'] = new_data['Reality'].astype('bool')\n",
    "#new_data['STATUS'] = new_data['STATUS'].astype('bool')\n",
    "new_data['wkphone']=new_data['wkphone'].astype('str')\n",
    "new_data['phone']=new_data['phone'].astype('str')\n",
    "new_data['email']=new_data['email'].astype('str')\n",
    "new_data['STATUS'] = new_data['STATUS'].astype(np.uint8)\n",
    "#df_appRec.FLAG_OWN_CAR.map(dict(Y=1, N=0))\n",
    "#df_appRec.FLAG_OWN_REALTY.map(dict(Y=1, N=0))\n",
    "new_data['Gender'] = np.where(new_data['Gender'] != 'M', 1, 0)"
   ]
  },
  {
   "cell_type": "code",
   "execution_count": null,
   "metadata": {
    "colab": {},
    "colab_type": "code",
    "id": "sh4CHIL9_67e"
   },
   "outputs": [],
   "source": [
    "#Dropping categorical variables and updating with one hot encoded vectors\n",
    "new_data.drop(columns=['inctp', 'edutp','occyp','houtp','famtp'], axis = 1, inplace = True)\n",
    "new_data = pd.concat([one_hot_train_i, new_data], axis = 1)\n",
    "new_data = pd.concat([one_hot_train_e, new_data], axis = 1)\n",
    "new_data = pd.concat([one_hot_train_h, new_data], axis = 1)\n",
    "new_data = pd.concat([one_hot_train_f, new_data], axis = 1)\n",
    "new_data = pd.concat([one_hot_train_o, new_data], axis = 1)"
   ]
  },
  {
   "cell_type": "code",
   "execution_count": null,
   "metadata": {
    "colab": {},
    "colab_type": "code",
    "id": "2JINzLo-8CD_"
   },
   "outputs": [],
   "source": [
    "df_final=new_data"
   ]
  },
  {
   "cell_type": "code",
   "execution_count": null,
   "metadata": {
    "colab": {},
    "colab_type": "code",
    "id": "JV8kOGPQgk9n"
   },
   "outputs": [],
   "source": [
    "# Droping the wkphone, phone and email columns\n",
    "y=new_data['STATUS']\n",
    "X = new_data[['Gender','Car','Reality','ChldNo', 'inc','DAYS_BIRTH','DAYS_EMPLOYED','FLAG_MOBIL','famsize']]"
   ]
  },
  {
   "cell_type": "code",
   "execution_count": null,
   "metadata": {
    "colab": {
     "base_uri": "https://localhost:8080/",
     "height": 323
    },
    "colab_type": "code",
    "id": "hFAIzPHtfvnX",
    "outputId": "7a8ff401-eb22-4168-c6f3-fc113023d434"
   },
   "outputs": [],
   "source": [
    "X.info()"
   ]
  },
  {
   "cell_type": "code",
   "execution_count": null,
   "metadata": {
    "colab": {},
    "colab_type": "code",
    "id": "3kpr9cO-lgr0"
   },
   "outputs": [],
   "source": [
    "#Split the data into train and test divides.\n",
    "X_train, X_test, y_train, y_test = train_test_split(X, y,test_size=0.3)"
   ]
  },
  {
   "cell_type": "code",
   "execution_count": null,
   "metadata": {
    "colab": {},
    "colab_type": "code",
    "id": "6-AWOCXjE0Pl"
   },
   "outputs": [],
   "source": [
    "#Logistic regression model for the data\n",
    "Log_classifier = LogisticRegression(class_weight='balanced')\n",
    "scoring = ['accuracy', 'precision_macro', 'recall_macro' , 'f1_weighted', 'roc_auc']\n",
    "scores = cross_validate(Log_classifier, X_train, y_train, scoring=scoring, cv=20)\n",
    "sorted(scores.keys())\n",
    "LR_fit_time = scores['fit_time'].mean()\n",
    "LR_score_time = scores['score_time'].mean()\n",
    "LR_accuracy = scores['test_accuracy'].mean()\n",
    "LR_precision = scores['test_precision_macro'].mean()\n",
    "LR_recall = scores['test_recall_macro'].mean()\n",
    "LR_f1 = scores['test_f1_weighted'].mean()\n",
    "LR_roc = scores['test_roc_auc'].mean()\n",
    "LR_cm = scores['test_roc_auc'].mean()"
   ]
  },
  {
   "cell_type": "code",
   "execution_count": null,
   "metadata": {
    "colab": {
     "base_uri": "https://localhost:8080/",
     "height": 55
    },
    "colab_type": "code",
    "id": "BhBWxeoSU2Q8",
    "outputId": "216be4ed-353a-4557-a82f-03ade1c78479"
   },
   "outputs": [],
   "source": [
    "#Confusion matrix for logistic regression\n",
    "Log_classifier.fit(X_train, y_train)\n",
    "y_pred=Log_classifier.predict(X_test)\n",
    "confusion_matrix(y_test, y_pred)\n"
   ]
  },
  {
   "cell_type": "code",
   "execution_count": null,
   "metadata": {
    "colab": {
     "base_uri": "https://localhost:8080/",
     "height": 317
    },
    "colab_type": "code",
    "id": "b38-xHd4uIgj",
    "outputId": "04b68150-6b8f-4ea4-d7d5-cbe903fae5e5"
   },
   "outputs": [],
   "source": [
    "#Precision recall curve for Logistic regression\n",
    "ns_probs = [0 for _ in range(len(y_test))]\n",
    "Log_classifier.fit(X_train, y_train)\n",
    "lr_probs = Log_classifier.predict_proba(X_test)\n",
    "# keep probabilities for the positive outcome only\n",
    "lr_probs = lr_probs[:, 1]\n",
    "# calculate scores\n",
    "ns_auc = roc_auc_score(y_test, ns_probs)\n",
    "lr_auc = roc_auc_score(y_test, lr_probs)\n",
    "# summarize scores\n",
    "print('No Skill: ROC AUC=%.3f' % (ns_auc))\n",
    "print('Logistic: ROC AUC=%.3f' % (lr_auc))\n",
    "# calculate roc curves\n",
    "ns_fpr, ns_tpr, _ = roc_curve(y_test, ns_probs)\n",
    "lr_fpr, lr_tpr, _ = roc_curve(y_test, lr_probs)\n",
    "# plot the roc curve for the model\n",
    "pyplot.plot(ns_fpr, ns_tpr, linestyle='--', label='No Skill')\n",
    "pyplot.plot(lr_fpr, lr_tpr, marker='.', label='Logistic')\n",
    "# axis labels\n",
    "pyplot.xlabel('False Positive Rate')\n",
    "pyplot.ylabel('True Positive Rate')\n",
    "# show the legend\n",
    "pyplot.legend()\n",
    "# show the plot\n",
    "pyplot.show()"
   ]
  },
  {
   "cell_type": "code",
   "execution_count": null,
   "metadata": {
    "colab": {},
    "colab_type": "code",
    "id": "tWphzrAkFauk"
   },
   "outputs": [],
   "source": [
    "#Fit the decision tree model on training data \n",
    "decision_tree = DecisionTreeClassifier()\n",
    "\n",
    "scoring = ['accuracy', 'precision_macro', 'recall_macro' , 'f1_weighted', 'roc_auc']\n",
    "scores = cross_validate(decision_tree, X_train, y_train, scoring=scoring, cv=20)\n",
    "\n",
    "sorted(scores.keys())\n",
    "dtree_fit_time = scores['fit_time'].mean()\n",
    "dtree_score_time = scores['score_time'].mean()\n",
    "dtree_accuracy = scores['test_accuracy'].mean()\n",
    "dtree_precision = scores['test_precision_macro'].mean()\n",
    "dtree_recall = scores['test_recall_macro'].mean()\n",
    "dtree_f1 = scores['test_f1_weighted'].mean()\n",
    "dtree_roc = scores['test_roc_auc'].mean()\n"
   ]
  },
  {
   "cell_type": "code",
   "execution_count": null,
   "metadata": {
    "colab": {
     "base_uri": "https://localhost:8080/",
     "height": 55
    },
    "colab_type": "code",
    "id": "k4y7TvWcghZ1",
    "outputId": "6b3ae54c-0806-4305-9e25-42343bf9f6b5"
   },
   "outputs": [],
   "source": [
    "#Confusion Matrix for Decision tree model \n",
    "decision_tree.fit(X_train, y_train)\n",
    "y_pred=decision_tree.predict(X_test)\n",
    "confusion_matrix(y_test, y_pred)"
   ]
  },
  {
   "cell_type": "code",
   "execution_count": null,
   "metadata": {
    "colab": {
     "base_uri": "https://localhost:8080/",
     "height": 317
    },
    "colab_type": "code",
    "id": "VV7Em5klghWK",
    "outputId": "99866c63-3ccb-496e-cfe0-d928c3c1e7c0"
   },
   "outputs": [],
   "source": [
    "#Precision recall curve for Decision tree\n",
    "ns_probs = [0 for _ in range(len(y_test))]\n",
    "decision_tree.fit(X_train, y_train)\n",
    "lr_probs = decision_tree.predict_proba(X_test)\n",
    "# keep probabilities for the positive outcome only\n",
    "lr_probs = lr_probs[:, 1]\n",
    "# calculate scores\n",
    "ns_auc = roc_auc_score(y_test, ns_probs)\n",
    "lr_auc = roc_auc_score(y_test, lr_probs)\n",
    "# summarize scores\n",
    "print('No Skill: ROC AUC=%.3f' % (ns_auc))\n",
    "print('Decision Tree: ROC AUC=%.3f' % (lr_auc))\n",
    "# calculate roc curves\n",
    "ns_fpr, ns_tpr, _ = roc_curve(y_test, ns_probs)\n",
    "lr_fpr, lr_tpr, _ = roc_curve(y_test, lr_probs)\n",
    "# plot the roc curve for the model\n",
    "pyplot.plot(ns_fpr, ns_tpr, linestyle='--', label='No Skill')\n",
    "pyplot.plot(lr_fpr, lr_tpr, marker='.', label='Decision tree')\n",
    "# axis labels\n",
    "pyplot.xlabel('False Positive Rate')\n",
    "pyplot.ylabel('True Positive Rate')\n",
    "# show the legend\n",
    "pyplot.legend()\n",
    "# show the plot\n",
    "pyplot.show()"
   ]
  },
  {
   "cell_type": "code",
   "execution_count": null,
   "metadata": {
    "colab": {
     "base_uri": "https://localhost:8080/",
     "height": 190
    },
    "colab_type": "code",
    "id": "Sev3G8U8LrWG",
    "outputId": "80d69539-c819-47d4-ae27-8a8a2e5a4343"
   },
   "outputs": [],
   "source": [
    "from sklearn.svm import SVC\n",
    "lin_clf = SVC(random_state=42,probability=True)\n",
    "scoring = ['accuracy', 'precision_macro', 'recall_macro' , 'f1_weighted', 'roc_auc']\n",
    "scores = cross_validate(lin_clf, X_train, y_train, scoring=scoring, cv=20)\n",
    "sorted(scores.keys())\n",
    "sv_fit_time = scores['fit_time'].mean()\n",
    "sv_score_time = scores['score_time'].mean()\n",
    "sv_accuracy = scores['test_accuracy'].mean()\n",
    "sv_precision = scores['test_precision_macro'].mean()\n",
    "sv_recall = scores['test_recall_macro'].mean()\n",
    "sv_f1 = scores['test_f1_weighted'].mean()\n",
    "sv_roc = scores['test_roc_auc'].mean()"
   ]
  },
  {
   "cell_type": "code",
   "execution_count": null,
   "metadata": {
    "colab": {},
    "colab_type": "code",
    "id": "jbQXQHmEicSb"
   },
   "outputs": [],
   "source": [
    "#Confusion Matrix for SVM \n",
    "lin_clf.fit(X_train, y_train)\n",
    "y_pred=lin_clf.predict(X_test)\n",
    "confusion_matrix(y_test, y_pred)"
   ]
  },
  {
   "cell_type": "code",
   "execution_count": null,
   "metadata": {
    "colab": {},
    "colab_type": "code",
    "id": "dtEx0iHLjCIn"
   },
   "outputs": [],
   "source": [
    "#Precision recall curve for SVM\n",
    "ns_probs = [0 for _ in range(len(y_test))]\n",
    "lin_clf.fit(X_train, y_train)\n",
    "lr_probs = lin_clf.predict_proba(X_test)\n",
    "# keep probabilities for the positive outcome only\n",
    "lr_probs = lr_probs[:, 1]\n",
    "# calculate scores\n",
    "ns_auc = roc_auc_score(y_test, ns_probs)\n",
    "lr_auc = roc_auc_score(y_test, lr_probs)\n",
    "# summarize scores\n",
    "print('No Skill: ROC AUC=%.3f' % (ns_auc))\n",
    "print('SVM: ROC AUC=%.3f' % (lr_auc))\n",
    "# calculate roc curves\n",
    "ns_fpr, ns_tpr, _ = roc_curve(y_test, ns_probs)\n",
    "lr_fpr, lr_tpr, _ = roc_curve(y_test, lr_probs)\n",
    "# plot the roc curve for the model\n",
    "pyplot.plot(ns_fpr, ns_tpr, linestyle='--', label='No Skill')\n",
    "pyplot.plot(lr_fpr, lr_tpr, marker='.', label='SVM')\n",
    "# axis labels\n",
    "pyplot.xlabel('False Positive Rate')\n",
    "pyplot.ylabel('True Positive Rate')\n",
    "# show the legend\n",
    "pyplot.legend()\n",
    "# show the plot\n",
    "pyplot.show()"
   ]
  },
  {
   "cell_type": "code",
   "execution_count": null,
   "metadata": {
    "colab": {},
    "colab_type": "code",
    "id": "KcMS-irldnyA"
   },
   "outputs": [],
   "source": [
    "#Gradient Boost algorithm\n",
    "gdclf = GradientBoostingClassifier()\n",
    "scoring = ['accuracy', 'precision_macro', 'recall_macro' , 'f1_weighted', 'roc_auc']\n",
    "scores = cross_validate(gdclf, X_train, y_train, scoring=scoring, cv=20)\n",
    "sorted(scores.keys())\n",
    "gb_fit_time = scores['fit_time'].mean()\n",
    "gb_score_time = scores['score_time'].mean()\n",
    "gb_accuracy = scores['test_accuracy'].mean()\n",
    "gb_precision = scores['test_precision_macro'].mean()\n",
    "gb_recall = scores['test_recall_macro'].mean()\n",
    "gb_f1 = scores['test_f1_weighted'].mean()\n",
    "gb_roc = scores['test_roc_auc'].mean()"
   ]
  },
  {
   "cell_type": "code",
   "execution_count": null,
   "metadata": {
    "colab": {},
    "colab_type": "code",
    "id": "T8G8v5fyxQyo"
   },
   "outputs": [],
   "source": [
    "#Confusion Matrix for GB \n",
    "gdclf.fit(X_train, y_train)\n",
    "y_pred=gdclf.predict(X_test)\n",
    "confusion_matrix(y_test, y_pred)"
   ]
  },
  {
   "cell_type": "code",
   "execution_count": null,
   "metadata": {
    "colab": {},
    "colab_type": "code",
    "id": "MjtMczL8xXsh"
   },
   "outputs": [],
   "source": [
    "#Precision recall curve for GB\n",
    "ns_probs = [0 for _ in range(len(y_test))]\n",
    "gdclf.fit(X_train, y_train)\n",
    "lr_probs = gdclf.predict_proba(X_test)\n",
    "# keep probabilities for the positive outcome only\n",
    "lr_probs = lr_probs[:, 1]\n",
    "# calculate scores\n",
    "ns_auc = roc_auc_score(y_test, ns_probs)\n",
    "lr_auc = roc_auc_score(y_test, lr_probs)\n",
    "# summarize scores\n",
    "print('No Skill: ROC AUC=%.3f' % (ns_auc))\n",
    "print('Gradient Boost: ROC AUC=%.3f' % (lr_auc))\n",
    "# calculate roc curves\n",
    "ns_fpr, ns_tpr, _ = roc_curve(y_test, ns_probs)\n",
    "lr_fpr, lr_tpr, _ = roc_curve(y_test, lr_probs)\n",
    "# plot the roc curve for the model\n",
    "pyplot.plot(ns_fpr, ns_tpr, linestyle='--', label='No Skill')\n",
    "pyplot.plot(lr_fpr, lr_tpr, marker='.', label='Gradient boost')\n",
    "# axis labels\n",
    "pyplot.xlabel('False Positive Rate')\n",
    "pyplot.ylabel('True Positive Rate')\n",
    "# show the legend\n",
    "pyplot.legend()\n",
    "# show the plot\n",
    "pyplot.show()"
   ]
  },
  {
   "cell_type": "code",
   "execution_count": null,
   "metadata": {
    "colab": {},
    "colab_type": "code",
    "id": "3XIw8O-NcSRp"
   },
   "outputs": [],
   "source": [
    "#Random forest classifier\n",
    "random_forest = RandomForestClassifier()\n",
    "\n",
    "scoring = ['accuracy', 'precision_macro', 'recall_macro' , 'f1_weighted', 'roc_auc']\n",
    "scores = cross_validate(random_forest, X_train, y_train, scoring=scoring, cv=20)\n",
    "\n",
    "sorted(scores.keys())\n",
    "forest_fit_time = scores['fit_time'].mean()\n",
    "forest_score_time = scores['score_time'].mean()\n",
    "forest_accuracy = scores['test_accuracy'].mean()\n",
    "forest_precision = scores['test_precision_macro'].mean()\n",
    "forest_recall = scores['test_recall_macro'].mean()\n",
    "forest_f1 = scores['test_f1_weighted'].mean()\n",
    "forest_roc = scores['test_roc_auc'].mean()"
   ]
  },
  {
   "cell_type": "code",
   "execution_count": null,
   "metadata": {
    "colab": {
     "base_uri": "https://localhost:8080/",
     "height": 55
    },
    "colab_type": "code",
    "id": "_ekWHMvpy6_o",
    "outputId": "2098f54e-6bff-4dbe-940d-6e68c9c76f16"
   },
   "outputs": [],
   "source": [
    "#Confusion Matrix for random forest\n",
    "random_forest.fit(X_train, y_train)\n",
    "y_pred=random_forest.predict(X_test)\n",
    "confusion_matrix(y_test, y_pred)"
   ]
  },
  {
   "cell_type": "code",
   "execution_count": null,
   "metadata": {
    "colab": {
     "base_uri": "https://localhost:8080/",
     "height": 317
    },
    "colab_type": "code",
    "id": "xve7dooQy3gP",
    "outputId": "0dc954a0-f5db-4248-fde4-e57f8ef54802"
   },
   "outputs": [],
   "source": [
    "#Precision recall curve for Random forest\n",
    "ns_probs = [0 for _ in range(len(y_test))]\n",
    "random_forest.fit(X_train, y_train)\n",
    "lr_probs = random_forest.predict_proba(X_test)\n",
    "# keep probabilities for the positive outcome only\n",
    "lr_probs = lr_probs[:, 1]\n",
    "# calculate scores\n",
    "ns_auc = roc_auc_score(y_test, ns_probs)\n",
    "lr_auc = roc_auc_score(y_test, lr_probs)\n",
    "# summarize scores\n",
    "print('No Skill: ROC AUC=%.3f' % (ns_auc))\n",
    "print('Random forest: ROC AUC=%.3f' % (lr_auc))\n",
    "# calculate roc curves\n",
    "ns_fpr, ns_tpr, _ = roc_curve(y_test, ns_probs)\n",
    "lr_fpr, lr_tpr, _ = roc_curve(y_test, lr_probs)\n",
    "# plot the roc curve for the model\n",
    "pyplot.plot(ns_fpr, ns_tpr, linestyle='--', label='No Skill')\n",
    "pyplot.plot(lr_fpr, lr_tpr, marker='.', label='Random forest')\n",
    "# axis labels\n",
    "pyplot.xlabel('False Positive Rate')\n",
    "pyplot.ylabel('True Positive Rate')\n",
    "# show the legend\n",
    "pyplot.legend()\n",
    "# show the plot\n",
    "pyplot.show()"
   ]
  },
  {
   "cell_type": "code",
   "execution_count": null,
   "metadata": {
    "colab": {
     "base_uri": "https://localhost:8080/",
     "height": 303
    },
    "colab_type": "code",
    "id": "FFWCKyzJvGyH",
    "outputId": "042066c1-75c1-4488-f175-38a5490ff526"
   },
   "outputs": [],
   "source": [
    "print(random_forest.feature_importances_) #use inbuilt class feature_importances of tree based classifiers\n",
    "#plot graph of feature importances for better visualization\n",
    "feat_importances = pd.Series(random_forest.feature_importances_, index=X.columns)\n",
    "feat_importances.nlargest(10).plot(kind='barh')\n",
    "plt.show()"
   ]
  },
  {
   "cell_type": "code",
   "execution_count": null,
   "metadata": {
    "colab": {},
    "colab_type": "code",
    "id": "6ZgyfvNKcZP3"
   },
   "outputs": [],
   "source": [
    "  #Model Comparison\n",
    "  models_rfecv = pd.DataFrame({\n",
    "      'Model'       : ['Logistic Regression', 'Decision Tree', 'Random Forest','Gradient Boost','Support Vector'],\n",
    "      'Fitting time': [LR_fit_time, dtree_fit_time, forest_fit_time,gb_fit_time,sv_fit_time],\n",
    "      'Scoring time': [LR_score_time, dtree_score_time, forest_score_time,gb_score_time,sv_score_time],\n",
    "      'Accuracy'    : [LR_accuracy, dtree_accuracy, forest_accuracy,gb_accuracy,sv_accuracy],\n",
    "      'Precision'   : [LR_precision, dtree_precision, forest_precision,gb_precision,sv_precision],\n",
    "      'Recall'      : [LR_recall, dtree_recall, forest_recall,gb_recall,sv_recall],\n",
    "      'F1_score'    : [LR_f1, dtree_f1, forest_f1,gb_f1,sv_f1],\n",
    "      'AUC_ROC'     : [LR_roc, dtree_roc, forest_roc,gb_roc,sv_roc],\n",
    "      }, columns = ['Model', 'Fitting time', 'Scoring time', 'Accuracy', 'Precision', 'Recall', 'F1_score', 'AUC_ROC'])\n",
    "\n",
    "  models_rfecv.sort_values(by='Accuracy', ascending=False)\n"
   ]
  },
  {
   "cell_type": "code",
   "execution_count": null,
   "metadata": {
    "colab": {
     "base_uri": "https://localhost:8080/",
     "height": 74
    },
    "colab_type": "code",
    "id": "K6_rlrmj6TiT",
    "outputId": "7e1b97e1-e436-47ee-f795-b26382c745dd"
   },
   "outputs": [],
   "source": [
    "df_final.STATUS.value_counts()"
   ]
  },
  {
   "cell_type": "markdown",
   "metadata": {
    "colab_type": "text",
    "id": "rGJ3WxB8paYF"
   },
   "source": [
    "Selected Random forest model as the best after comparison. Model is balanced again for imabalnaced data and used for prediction."
   ]
  },
  {
   "cell_type": "code",
   "execution_count": null,
   "metadata": {
    "colab": {},
    "colab_type": "code",
    "id": "NHWh1ij5p1DQ"
   },
   "outputs": [],
   "source": [
    "def evalPerformance(test_algo_obtained_labels, test_labels):\n",
    "\ta, b, c, d = 0, 0, 0, 0\n",
    "\ttest_labels = np.array(test_labels)\n",
    "\ttest_algo_obtained_labels = np.array(test_algo_obtained_labels)\n",
    "\ttest_algo_obtained_labels = test_algo_obtained_labels.astype(np.float)\n",
    "\tfor i in range(0, len(test_labels)):\n",
    "\t\tif(test_labels[i] == test_algo_obtained_labels[i] and test_labels[i] == 1.0):\n",
    "\t\t\ta += 1\n",
    "\t\telif(test_labels[i] == 1.0 and test_algo_obtained_labels[i] == 0.0):\n",
    "\t\t\tb += 1\n",
    "\t\telif(test_labels[i] == 0.0 and test_algo_obtained_labels[i] == 1.0):\n",
    "\t\t\tc += 1\n",
    "\t\telif(test_labels[i] == test_algo_obtained_labels[i] and test_labels[i] == 0.0):\n",
    "\t\t\td += 1\n",
    "\taccuracy = 0.0\n",
    "\tprecision = 0.0\n",
    "\trecall = 0.0\n",
    "\tf_measure = 0.0\n",
    "\tif(a+b+c+d != 0):\n",
    "\t\taccuracy = float(a+d)/(a+b+c+d)\n",
    "\tif(a+c != 0):\n",
    "\t\tprecision = a / float(a+c)\n",
    "\tif(a+b != 0):\n",
    "\t\trecall = a/float(a+b)\n",
    "\tif(2*a + b + c != 0):\n",
    "\t\tf_measure = 2*a/float(2*a + b + c)\n",
    "\tprint(\" Accuracy is : \" + str(accuracy)),\n",
    "\tprint(\" Precision is : \" + str(precision))\n",
    "\tprint(\" Recall is : \" + str(recall))\n",
    "\tprint(\" F Measure is : \" + str(f_measure))\n",
    "\tprint()\n",
    "\treturn accuracy, precision, recall, f_measure"
   ]
  },
  {
   "cell_type": "code",
   "execution_count": null,
   "metadata": {
    "colab": {},
    "colab_type": "code",
    "id": "cw2CMt4Y_a_D"
   },
   "outputs": [],
   "source": [
    "#SMote\n",
    "y1=df_final['STATUS']\n",
    "X1 = df_final[['Gender','Car','Reality','ChldNo', 'inc','DAYS_BIRTH','DAYS_EMPLOYED','FLAG_MOBIL','famsize']]"
   ]
  },
  {
   "cell_type": "code",
   "execution_count": null,
   "metadata": {
    "colab": {
     "base_uri": "https://localhost:8080/",
     "height": 75
    },
    "colab_type": "code",
    "id": "fY6GvAuT_loT",
    "outputId": "81a87445-fd0f-4fd7-8547-09bcf056858e"
   },
   "outputs": [],
   "source": [
    "from imblearn.over_sampling import SMOTE\n",
    "X_balance,Y_balance = SMOTE().fit_sample(X1,y1)\n",
    "X_balance = pd.DataFrame(X_balance,columns=X1.columns)"
   ]
  },
  {
   "cell_type": "code",
   "execution_count": null,
   "metadata": {
    "colab": {},
    "colab_type": "code",
    "id": "uK6Ox23q_set"
   },
   "outputs": [],
   "source": [
    "X_train, X_test, y_train, y_test = train_test_split(X_balance,Y_balance, \n",
    "                                                    stratify=Y_balance, test_size=0.3,\n",
    "                                                    random_state = 10086)"
   ]
  },
  {
   "cell_type": "code",
   "execution_count": null,
   "metadata": {
    "colab": {
     "base_uri": "https://localhost:8080/",
     "height": 170
    },
    "colab_type": "code",
    "id": "0KqiLkUh_zy3",
    "outputId": "d4aa38e7-71d1-4403-8632-05fc459b6bc6"
   },
   "outputs": [],
   "source": [
    "rf= RandomForestClassifier()\n",
    "rf.fit(X_train,y_train)"
   ]
  },
  {
   "cell_type": "code",
   "execution_count": null,
   "metadata": {
    "colab": {
     "base_uri": "https://localhost:8080/",
     "height": 132
    },
    "colab_type": "code",
    "id": "ZB0WaQS0AUz7",
    "outputId": "80242c8e-8335-428a-cd8e-f948d70f66bb"
   },
   "outputs": [],
   "source": [
    "y_pred=rf.predict(X_test)\n",
    "evalPerformance(y_pred,y_test)\n",
    "confusion_matrix(y_test, y_pred)"
   ]
  },
  {
   "cell_type": "code",
   "execution_count": null,
   "metadata": {
    "colab": {},
    "colab_type": "code",
    "id": "B7rZhrxXTdff"
   },
   "outputs": [],
   "source": [
    "#Precision recall curve for Random forest\n",
    "ns_probs = [0 for _ in range(len(y_test))]\n",
    "rf.fit(X_train, y_train)\n",
    "lr_probs = rf.predict_proba(X_test)\n",
    "# keep probabilities for the positive outcome only\n",
    "lr_probs = lr_probs[:, 1]\n",
    "# calculate scores\n",
    "ns_auc = roc_auc_score(y_test, ns_probs)\n",
    "lr_auc = roc_auc_score(y_test, lr_probs)\n",
    "# summarize scores\n",
    "print('No Skill: ROC AUC=%.3f' % (ns_auc))\n",
    "print('Random forest: ROC AUC=%.3f' % (lr_auc))\n",
    "# calculate roc curves\n",
    "ns_fpr, ns_tpr, _ = roc_curve(y_test, ns_probs)\n",
    "lr_fpr, lr_tpr, _ = roc_curve(y_test, lr_probs)\n",
    "# plot the roc curve for the model\n",
    "pyplot.plot(ns_fpr, ns_tpr, linestyle='--', label='No Skill')\n",
    "pyplot.plot(lr_fpr, lr_tpr, marker='.', label='Random forest')\n",
    "# axis labels\n",
    "pyplot.xlabel('False Positive Rate')\n",
    "pyplot.ylabel('True Positive Rate')\n",
    "# show the legend\n",
    "pyplot.legend()\n",
    "# show the plot\n",
    "pyplot.show()"
   ]
  }
 ],
 "metadata": {
  "accelerator": "TPU",
  "colab": {
   "collapsed_sections": [],
   "name": "Python_Project.ipynb",
   "provenance": []
  },
  "kernelspec": {
   "display_name": "Python 3",
   "language": "python",
   "name": "python3"
  },
  "language_info": {
   "codemirror_mode": {
    "name": "ipython",
    "version": 3
   },
   "file_extension": ".py",
   "mimetype": "text/x-python",
   "name": "python",
   "nbconvert_exporter": "python",
   "pygments_lexer": "ipython3",
   "version": "3.7.4"
  }
 },
 "nbformat": 4,
 "nbformat_minor": 1
}
